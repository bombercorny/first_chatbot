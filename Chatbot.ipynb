{
  "nbformat": 4,
  "nbformat_minor": 0,
  "metadata": {
    "colab": {
      "name": "Chatbot.ipynb",
      "provenance": []
    },
    "kernelspec": {
      "name": "python3",
      "display_name": "Python 3"
    }
  },
  "cells": [
    {
      "cell_type": "code",
      "metadata": {
        "id": "c8FA4iH--25f"
      },
      "source": [
        "# importing regex and random libraries\n",
        "import re\n",
        "import random"
      ],
      "execution_count": 1,
      "outputs": []
    },
    {
      "cell_type": "code",
      "metadata": {
        "id": "PwpbRAml-9lQ",
        "outputId": "f920908d-4c40-4e29-8be2-e936c6014c37",
        "colab": {
          "base_uri": "https://localhost:8080/",
          "height": 177
        }
      },
      "source": [
        "class AlienBot:\n",
        "  # potential negative responses\n",
        "  negative_responses = (\"no\", \"nope\", \"nah\", \"naw\", \"not a chance\", \"sorry\")\n",
        "  # keywords for exiting the conversation\n",
        "  exit_commands = (\"quit\", \"pause\", \"exit\", \"goodbye\", \"bye\", \"later\")\n",
        "  # random starter questions\n",
        "  random_questions = (\n",
        "        \"Why are you here? \",\n",
        "        \"Are there many humans like you? \",\n",
        "        \"What do you consume for sustenance? \",\n",
        "        \"Is there intelligent life on this planet? \",\n",
        "        \"Does Earth have a leader? \",\n",
        "        \"What planets have you visited? \",\n",
        "        \"What technology do you have on this planet? \"\n",
        "    )\n",
        "\n",
        "  def __init__(self):\n",
        "    self.alienbabble = {'describe_planet_intent': [r'.*describe.*planet', r'.*where.*planet'],\n",
        "                        'answer_why_intent': [r'.*why.*here.*', r'.*why.*visit.*'],\n",
        "                        'cubed_intent': [r'.*double.*(\\d+)']}\n",
        "  # Define .greet() below:\n",
        "  def greet(self):\n",
        "    self.name = input('peep peep. hello earth. hello human. what is your name?\\n')\n",
        "    human_answer = input(f\"Hi {self.name}, I'm an Alien from another planet. Will you help me learn about your planet? \\n\")\n",
        "\n",
        "    if human_answer in self.negative_responses:\n",
        "      print('Okay...sorry to hear that. Get ready to being destroyed!')\n",
        "      return\n",
        "    else:\n",
        "      self.chat()\n",
        "\n",
        "\n",
        "  # Define .make_exit() here:\n",
        "  def make_exit(self, reply):\n",
        "    for exit_command in self.exit_commands:\n",
        "      if exit_command in reply:\n",
        "        print('Okay human. You really don´t want to to talk anymore?! Have a nice destruction day! Muhahahahaha \\n\"LASERBEAM\"')\n",
        "        return True\n",
        "    return False\n",
        "\n",
        "  # Define .chat() next:\n",
        "  def chat(self):\n",
        "    reply = input(random.choice(self.random_questions)).lower()\n",
        "    while not self.make_exit(reply):\n",
        "      reply = input(self.match_reply(reply))\n",
        "\n",
        "\n",
        "  # Define .match_reply() below:\n",
        "  def match_reply(self, reply):\n",
        "    for intent, values in self.alienbabble.items():\n",
        "      for regex_pattern in values:\n",
        "        found_match = re.match(regex_pattern, reply.lower())\n",
        "        if found_match and intent == 'describe_planet_intent':\n",
        "          return self.describe_planet_intent()\n",
        "        elif found_match and intent == 'answer_why_intent':\n",
        "          return self.answer_why_intent()\n",
        "        elif found_match and intent == 'cubed_intent':\n",
        "          return self.cubed_intent(found_match.groups()[0])\n",
        "        else:\n",
        "          return self.no_match_intent()\n",
        "\n",
        "  # Define .describe_planet_intent():\n",
        "  def describe_planet_intent(self):\n",
        "    responses = (\"My planet is a utopia of diverse organisms and species. \\n\", \"I am from Planet Sexy, the capital of the Supersexy Galaxies. \")\n",
        "    return random.choice(responses)\n",
        "\n",
        "  # Define .answer_why_intent():\n",
        "  def answer_why_intent(self):\n",
        "    responses = ('I come in peace.\\n', 'I am here to collect data on your planet and its inhabitants.\\n', 'I heard the coffee is good.\\n')\n",
        "    return random.choice(responses)\n",
        "       \n",
        "  # Define .cubed_intent():\n",
        "  def cubed_intent(self, number):\n",
        "    number = int(number)\n",
        "    doubled_number = number*2\n",
        "    return f'Double the amount of {number} is {doubled_number}. Cool, right?\"\\n'\n",
        "  # Define .no_match_intent():\n",
        "  def no_match_intent(self):\n",
        "    responses = ('Please tell me more.\\n', 'Boooooooring...anything else?\\n', f'Cool, sound interesting. Do you have a cure for snooring {self.name}?\\n')\n",
        "    return random.choice(responses)\n",
        "\n",
        "# Create an instance of AlienBot below:\n",
        "alien = AlienBot()\n",
        "alien.greet()\n"
      ],
      "execution_count": 2,
      "outputs": [
        {
          "output_type": "stream",
          "text": [
            "peep peep. hello earth. hello human. what is your name?\n",
            "claus\n",
            "Hi claus, I'm an Alien from another planet. Will you help me learn about your planet? \n",
            "yes sure\n",
            "Does Earth have a leader? yes it´s me\n",
            "Boooooooring...anything else?\n",
            "exit\n",
            "Okay human. You really don´t want to to talk anymore?! Have a nice destruction day! Muhahahahaha \n",
            "\"LASERBEAM\"\n"
          ],
          "name": "stdout"
        }
      ]
    },
    {
      "cell_type": "code",
      "metadata": {
        "id": "9qG30Jgr_SKk"
      },
      "source": [
        ""
      ],
      "execution_count": null,
      "outputs": []
    }
  ]
}